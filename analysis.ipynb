{
 "cells": [
  {
   "cell_type": "markdown",
   "id": "5330c410",
   "metadata": {},
   "source": [
    "Imports"
   ]
  },
  {
   "cell_type": "code",
   "execution_count": 9,
   "id": "aa70631f",
   "metadata": {},
   "outputs": [],
   "source": [
    "import pandas as pd\n",
    "import numpy as np"
   ]
  },
  {
   "cell_type": "markdown",
   "id": "0e540980",
   "metadata": {},
   "source": [
    "# Part 1"
   ]
  },
  {
   "cell_type": "code",
   "execution_count": null,
   "id": "9b7630fc",
   "metadata": {},
   "outputs": [],
   "source": [
    "# from jupiter import ..."
   ]
  },
  {
   "cell_type": "markdown",
   "id": "d88d1608",
   "metadata": {},
   "source": [
    "# Part 2"
   ]
  },
  {
   "cell_type": "code",
   "execution_count": 2,
   "id": "00b3348b",
   "metadata": {},
   "outputs": [],
   "source": [
    "database_service = \"sqlite\"\n",
    "database = \"jupiter.db\""
   ]
  },
  {
   "cell_type": "code",
   "execution_count": 3,
   "id": "1d7bac95",
   "metadata": {},
   "outputs": [
    {
     "name": "stdout",
     "output_type": "stream",
     "text": [
      "Our connectable for our database is sqlite:///jupiter.db\n"
     ]
    }
   ],
   "source": [
    "connectable = f\"{database_service}:///{database}\"\n",
    "print(f\"Our connectable for our database is {connectable}\")"
   ]
  },
  {
   "cell_type": "code",
   "execution_count": 4,
   "id": "bc9329b0",
   "metadata": {},
   "outputs": [],
   "source": [
    "moons = pd.read_sql_table('moons', 'sqlite:///jupiter.db')\n",
    "# moons"
   ]
  },
  {
   "cell_type": "code",
   "execution_count": 6,
   "id": "2a9f470f",
   "metadata": {},
   "outputs": [],
   "source": [
    "major_axis = moons['distance_km']\n",
    "orbital_period = moons['period_days']"
   ]
  },
  {
   "cell_type": "code",
   "execution_count": 7,
   "id": "3f7a99da",
   "metadata": {},
   "outputs": [],
   "source": [
    "a = major_axis*1000 # convert from km to m\n",
    "T = orbital_period*86400 # convert from days to seconds\n",
    "G = 6.67*(10**-11) #m^3 kg^-1 s^-2\n",
    "\n",
    "a_3 = a**3\n",
    "T_2 = T**2"
   ]
  },
  {
   "cell_type": "code",
   "execution_count": 8,
   "id": "e983ed07",
   "metadata": {},
   "outputs": [
    {
     "data": {
      "text/plain": [
       "<matplotlib.collections.PathCollection at 0x7ff94bfc0a90>"
      ]
     },
     "execution_count": 8,
     "metadata": {},
     "output_type": "execute_result"
    },
    {
     "data": {
      "image/png": "[encoded data removed]",
      "text/plain": [
       "<Figure size 640x480 with 1 Axes>"
      ]
     },
     "metadata": {},
     "output_type": "display_data"
    }
   ],
   "source": [
    "import matplotlib.pyplot as plt\n",
    "fig, ax = plt.subplots()\n",
    "\n",
    "ax.scatter(a_3, T_2)"
   ]
  },
  {
   "cell_type": "code",
   "execution_count": null,
   "id": "8aa14bb0",
   "metadata": {},
   "outputs": [],
   "source": [
    "# import the relevant model from sklearn\n",
    "from sklearn import linear_model\n",
    "\n",
    "# create an instance of the model\n",
    "model = linear_model.LinearRegression(fit_intercept=True)"
   ]
  }
 ],
 "metadata": {
  "kernelspec": {
   "display_name": "Python 3 (ipykernel)",
   "language": "python",
   "name": "python3"
  },
  "language_info": {
   "codemirror_mode": {
    "name": "ipython",
    "version": 3
   },
   "file_extension": ".py",
   "mimetype": "text/x-python",
   "name": "python",
   "nbconvert_exporter": "python",
   "pygments_lexer": "ipython3",
   "version": "3.9.13"
  }
 },
 "nbformat": 4,
 "nbformat_minor": 5
}
